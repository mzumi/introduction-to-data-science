{
 "cells": [
  {
   "cell_type": "code",
   "execution_count": 2,
   "metadata": {
    "collapsed": false
   },
   "outputs": [
    {
     "data": {
      "text/html": [
       "<div>\n",
       "<table border=\"1\" class=\"dataframe\">\n",
       "  <thead>\n",
       "    <tr style=\"text-align: right;\">\n",
       "      <th></th>\n",
       "      <th>month</th>\n",
       "      <th>tvcm</th>\n",
       "      <th>magazine</th>\n",
       "      <th>install</th>\n",
       "    </tr>\n",
       "  </thead>\n",
       "  <tbody>\n",
       "    <tr>\n",
       "      <th>0</th>\n",
       "      <td>2013-01</td>\n",
       "      <td>6358</td>\n",
       "      <td>5955</td>\n",
       "      <td>53948</td>\n",
       "    </tr>\n",
       "    <tr>\n",
       "      <th>1</th>\n",
       "      <td>2013-02</td>\n",
       "      <td>8176</td>\n",
       "      <td>6069</td>\n",
       "      <td>57300</td>\n",
       "    </tr>\n",
       "    <tr>\n",
       "      <th>2</th>\n",
       "      <td>2013-03</td>\n",
       "      <td>6853</td>\n",
       "      <td>5862</td>\n",
       "      <td>52057</td>\n",
       "    </tr>\n",
       "    <tr>\n",
       "      <th>3</th>\n",
       "      <td>2013-04</td>\n",
       "      <td>5271</td>\n",
       "      <td>5247</td>\n",
       "      <td>44044</td>\n",
       "    </tr>\n",
       "    <tr>\n",
       "      <th>4</th>\n",
       "      <td>2013-05</td>\n",
       "      <td>6473</td>\n",
       "      <td>6365</td>\n",
       "      <td>54063</td>\n",
       "    </tr>\n",
       "    <tr>\n",
       "      <th>5</th>\n",
       "      <td>2013-06</td>\n",
       "      <td>7682</td>\n",
       "      <td>6555</td>\n",
       "      <td>58097</td>\n",
       "    </tr>\n",
       "    <tr>\n",
       "      <th>6</th>\n",
       "      <td>2013-07</td>\n",
       "      <td>5666</td>\n",
       "      <td>5546</td>\n",
       "      <td>47407</td>\n",
       "    </tr>\n",
       "    <tr>\n",
       "      <th>7</th>\n",
       "      <td>2013-08</td>\n",
       "      <td>6659</td>\n",
       "      <td>6066</td>\n",
       "      <td>53333</td>\n",
       "    </tr>\n",
       "    <tr>\n",
       "      <th>8</th>\n",
       "      <td>2013-09</td>\n",
       "      <td>6066</td>\n",
       "      <td>5646</td>\n",
       "      <td>49918</td>\n",
       "    </tr>\n",
       "    <tr>\n",
       "      <th>9</th>\n",
       "      <td>2013-10</td>\n",
       "      <td>10090</td>\n",
       "      <td>6545</td>\n",
       "      <td>59963</td>\n",
       "    </tr>\n",
       "  </tbody>\n",
       "</table>\n",
       "</div>"
      ],
      "text/plain": [
       "     month   tvcm  magazine  install\n",
       "0  2013-01   6358      5955    53948\n",
       "1  2013-02   8176      6069    57300\n",
       "2  2013-03   6853      5862    52057\n",
       "3  2013-04   5271      5247    44044\n",
       "4  2013-05   6473      6365    54063\n",
       "5  2013-06   7682      6555    58097\n",
       "6  2013-07   5666      5546    47407\n",
       "7  2013-08   6659      6066    53333\n",
       "8  2013-09   6066      5646    49918\n",
       "9  2013-10  10090      6545    59963"
      ]
     },
     "execution_count": 2,
     "metadata": {},
     "output_type": "execute_result"
    }
   ],
   "source": [
    "import pandas as pd\n",
    "\n",
    "ad_result = pd.read_csv(\"ad_result.csv\")\n",
    "ad_result"
   ]
  },
  {
   "cell_type": "code",
   "execution_count": 6,
   "metadata": {
    "collapsed": false
   },
   "outputs": [
    {
     "data": {
      "text/plain": [
       "<matplotlib.axes._subplots.AxesSubplot at 0x7f2942c0c9b0>"
      ]
     },
     "execution_count": 6,
     "metadata": {},
     "output_type": "execute_result"
    },
    {
     "data": {
      "image/png": "[encoded data removed]",
      "text/plain": [
       "<matplotlib.figure.Figure at 0x7f2943e240f0>"
      ]
     },
     "metadata": {},
     "output_type": "display_data"
    }
   ],
   "source": [
    "import matplotlib.pyplot as plt\n",
    "\n",
    "fig, axs = plt.subplots(ncols=2, figsize=(12, 4))\n",
    "# TV 広告と新規ユーザー数\n",
    "ad_result.plot(kind='scatter', x='tvcm', y='install', ax=axs[0])\n",
    "\n",
    "# 雑誌広告と新規ユーザー数\n",
    "ad_result.plot(kind='scatter', x='magazine', y='install', ax=axs[1])"
   ]
  },
  {
   "cell_type": "code",
   "execution_count": 5,
   "metadata": {
    "collapsed": false
   },
   "outputs": [
    {
     "name": "stdout",
     "output_type": "stream",
     "text": [
      "係数: [ 1.3609213   7.24980915]\n",
      "切片: 188.17427483\n"
     ]
    }
   ],
   "source": [
    "from sklearn import linear_model\n",
    "clf = linear_model.LinearRegression()\n",
    "\n",
    "X = ad_result.drop(['month','install'], axis=1).as_matrix()\n",
    "Y = ad_result['install'].as_matrix()\n",
    "\n",
    "# 重回帰分析\n",
    "clf.fit(X, Y)\n",
    "\n",
    "print(\"係数: %s\" % clf.coef_)\n",
    "print(\"切片: %s\" % clf.intercept_)"
   ]
  }
 ],
 "metadata": {
  "kernelspec": {
   "display_name": "Python 3",
   "language": "python",
   "name": "python3"
  },
  "language_info": {
   "codemirror_mode": {
    "name": "ipython",
    "version": 3
   },
   "file_extension": ".py",
   "mimetype": "text/x-python",
   "name": "python",
   "nbconvert_exporter": "python",
   "pygments_lexer": "ipython3",
   "version": "3.5.2"
  }
 },
 "nbformat": 4,
 "nbformat_minor": 2
}
