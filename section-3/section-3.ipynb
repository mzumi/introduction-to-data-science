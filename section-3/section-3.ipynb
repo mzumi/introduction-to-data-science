{
 "cells": [
  {
   "cell_type": "code",
   "execution_count": 1,
   "metadata": {
    "collapsed": false
   },
   "outputs": [],
   "source": [
    "import pandas as pd\n",
    "\n",
    "dau = pd.read_csv(\"section3-dau.csv\", parse_dates=['log_date'])\n",
    "dpu = pd.read_csv(\"section3-dpu.csv\", parse_dates=['log_date'])\n",
    "install = pd.read_csv(\"section3-install.csv\", parse_dates=['install_date'])"
   ]
  },
  {
   "cell_type": "code",
   "execution_count": 2,
   "metadata": {
    "collapsed": false
   },
   "outputs": [],
   "source": [
    "# dauとインストール情報を結合させる\n",
    "dau_install = pd.merge(dau, install, on=['app_name', 'user_id'])\n",
    "\n",
    "# 上記の情報に、課金情報を結合させる\n",
    "user_info = pd.merge(dau_install, dpu, on=['log_date', 'app_name', 'user_id'], how='left').fillna(0)"
   ]
  },
  {
   "cell_type": "code",
   "execution_count": 3,
   "metadata": {
    "collapsed": false
   },
   "outputs": [],
   "source": [
    "# 年月の単位の列を追加する\n",
    "user_info['log_month'] = user_info['log_date'].apply(lambda x: str(x)[0:7])\n",
    "user_info['install_month'] = user_info['install_date'].apply(lambda x: str(x)[0:7])"
   ]
  },
  {
   "cell_type": "code",
   "execution_count": 4,
   "metadata": {
    "collapsed": false
   },
   "outputs": [],
   "source": [
    "# アクセスした年月の列を追加\n",
    "user_info['log_month'] = user_info['log_date'].apply(lambda x: str(x)[0:7])\n",
    "\n",
    "# インストールした年月の列を追加\n",
    "user_info['install_month'] = user_info['install_date'].apply(lambda x: str(x)[0:7])"
   ]
  },
  {
   "cell_type": "code",
   "execution_count": 58,
   "metadata": {
    "collapsed": false
   },
   "outputs": [
    {
     "data": {
      "text/html": [
       "<div>\n",
       "<table border=\"1\" class=\"dataframe\">\n",
       "  <thead>\n",
       "    <tr style=\"text-align: right;\">\n",
       "      <th>new_user</th>\n",
       "      <th>False</th>\n",
       "      <th>True</th>\n",
       "    </tr>\n",
       "    <tr>\n",
       "      <th>log_month</th>\n",
       "      <th></th>\n",
       "      <th></th>\n",
       "    </tr>\n",
       "  </thead>\n",
       "  <tbody>\n",
       "    <tr>\n",
       "      <th>2013-06</th>\n",
       "      <td>177886.0</td>\n",
       "      <td>49837.0</td>\n",
       "    </tr>\n",
       "    <tr>\n",
       "      <th>2013-07</th>\n",
       "      <td>177886.0</td>\n",
       "      <td>29199.0</td>\n",
       "    </tr>\n",
       "  </tbody>\n",
       "</table>\n",
       "</div>"
      ],
      "text/plain": [
       "new_user      False    True \n",
       "log_month                   \n",
       "2013-06    177886.0  49837.0\n",
       "2013-07    177886.0  29199.0"
      ]
     },
     "execution_count": 58,
     "metadata": {},
     "output_type": "execute_result"
    }
   ],
   "source": [
    "user_info['new_user'] = user_info['log_month'] == user_info['install_month']\n",
    "# アプリは一つしかないので、グルーピングしない\n",
    "user_payment = user_info.groupby(['log_month', 'new_user'])['payment'].sum().unstack()\n",
    "user_payment"
   ]
  },
  {
   "cell_type": "code",
   "execution_count": 60,
   "metadata": {
    "collapsed": false
   },
   "outputs": [
    {
     "data": {
      "text/plain": [
       "<matplotlib.axes._subplots.AxesSubplot at 0x7f5139b21e80>"
      ]
     },
     "execution_count": 60,
     "metadata": {},
     "output_type": "execute_result"
    },
    {
     "data": {
      "image/png": "[encoded data removed]",
      "text/plain": [
       "<matplotlib.figure.Figure at 0x7f513efab710>"
      ]
     },
     "metadata": {},
     "output_type": "display_data"
    }
   ],
   "source": [
    "# 月ごとの新規ユーザーとそれ以外のユーザーの金額をグラフ化\n",
    "user_payment.plot(kind='bar', stacked=True)"
   ]
  },
  {
   "cell_type": "code",
   "execution_count": 72,
   "metadata": {
    "collapsed": false
   },
   "outputs": [
    {
     "data": {
      "text/html": [
       "<div>\n",
       "<table border=\"1\" class=\"dataframe\">\n",
       "  <thead>\n",
       "    <tr style=\"text-align: right;\">\n",
       "      <th></th>\n",
       "      <th>log_month</th>\n",
       "      <th>user_id</th>\n",
       "      <th>payment</th>\n",
       "    </tr>\n",
       "  </thead>\n",
       "  <tbody>\n",
       "    <tr>\n",
       "      <th>0</th>\n",
       "      <td>2013-06</td>\n",
       "      <td>3</td>\n",
       "      <td>14994.0</td>\n",
       "    </tr>\n",
       "    <tr>\n",
       "      <th>1</th>\n",
       "      <td>2013-06</td>\n",
       "      <td>11</td>\n",
       "      <td>1937.0</td>\n",
       "    </tr>\n",
       "    <tr>\n",
       "      <th>2</th>\n",
       "      <td>2013-06</td>\n",
       "      <td>19</td>\n",
       "      <td>2633.0</td>\n",
       "    </tr>\n",
       "    <tr>\n",
       "      <th>3</th>\n",
       "      <td>2013-06</td>\n",
       "      <td>35</td>\n",
       "      <td>8808.0</td>\n",
       "    </tr>\n",
       "    <tr>\n",
       "      <th>4</th>\n",
       "      <td>2013-06</td>\n",
       "      <td>37</td>\n",
       "      <td>2572.0</td>\n",
       "    </tr>\n",
       "  </tbody>\n",
       "</table>\n",
       "</div>"
      ],
      "text/plain": [
       "  log_month  user_id  payment\n",
       "0   2013-06        3  14994.0\n",
       "1   2013-06       11   1937.0\n",
       "2   2013-06       19   2633.0\n",
       "3   2013-06       35   8808.0\n",
       "4   2013-06       37   2572.0"
      ]
     },
     "execution_count": 72,
     "metadata": {},
     "output_type": "execute_result"
    }
   ],
   "source": [
    "purchasers = user_info[user_info['payment'] > 0]\n",
    "# 課金したことのあるユーザーの月別の金額\n",
    "payment_info = purchasers.groupby(['log_month', 'user_id'], as_index=False)['payment'].sum()\n",
    "payment_info.head(5)"
   ]
  },
  {
   "cell_type": "code",
   "execution_count": 73,
   "metadata": {
    "collapsed": false
   },
   "outputs": [
    {
     "data": {
      "text/html": [
       "<div>\n",
       "<table border=\"1\" class=\"dataframe\">\n",
       "  <thead>\n",
       "    <tr style=\"text-align: right;\">\n",
       "      <th></th>\n",
       "      <th>log_month</th>\n",
       "      <th>user_id</th>\n",
       "      <th>payment</th>\n",
       "      <th>payment_band</th>\n",
       "    </tr>\n",
       "  </thead>\n",
       "  <tbody>\n",
       "    <tr>\n",
       "      <th>0</th>\n",
       "      <td>2013-06</td>\n",
       "      <td>3</td>\n",
       "      <td>14994.0</td>\n",
       "      <td>14000</td>\n",
       "    </tr>\n",
       "    <tr>\n",
       "      <th>1</th>\n",
       "      <td>2013-06</td>\n",
       "      <td>11</td>\n",
       "      <td>1937.0</td>\n",
       "      <td>0</td>\n",
       "    </tr>\n",
       "    <tr>\n",
       "      <th>2</th>\n",
       "      <td>2013-06</td>\n",
       "      <td>19</td>\n",
       "      <td>2633.0</td>\n",
       "      <td>2000</td>\n",
       "    </tr>\n",
       "    <tr>\n",
       "      <th>3</th>\n",
       "      <td>2013-06</td>\n",
       "      <td>35</td>\n",
       "      <td>8808.0</td>\n",
       "      <td>8000</td>\n",
       "    </tr>\n",
       "    <tr>\n",
       "      <th>4</th>\n",
       "      <td>2013-06</td>\n",
       "      <td>37</td>\n",
       "      <td>2572.0</td>\n",
       "      <td>2000</td>\n",
       "    </tr>\n",
       "  </tbody>\n",
       "</table>\n",
       "</div>"
      ],
      "text/plain": [
       "  log_month  user_id  payment  payment_band\n",
       "0   2013-06        3  14994.0         14000\n",
       "1   2013-06       11   1937.0             0\n",
       "2   2013-06       19   2633.0          2000\n",
       "3   2013-06       35   8808.0          8000\n",
       "4   2013-06       37   2572.0          2000"
      ]
     },
     "execution_count": 73,
     "metadata": {},
     "output_type": "execute_result"
    }
   ],
   "source": [
    "# 課金の合計金額を2,000円ごとの情報にする\n",
    "payment_info['payment_band'] = payment_info['payment'].apply(lambda x: int(int(x) / 2000) * 2000)\n",
    "payment_info.head(5)"
   ]
  },
  {
   "cell_type": "code",
   "execution_count": 54,
   "metadata": {
    "collapsed": false
   },
   "outputs": [
    {
     "data": {
      "text/plain": [
       "<matplotlib.axes._subplots.AxesSubplot at 0x7f5139c64048>"
      ]
     },
     "execution_count": 54,
     "metadata": {},
     "output_type": "execute_result"
    },
    {
     "data": {
      "image/png": "[encoded data removed]",
      "text/plain": [
       "<matplotlib.figure.Figure at 0x7f5139c6b7f0>"
      ]
     },
     "metadata": {},
     "output_type": "display_data"
    }
   ],
   "source": [
    "payment_info.groupby(['payment_band', 'log_month'])['user_id'].count().unstack().fillna(0).plot(kind='bar')"
   ]
  }
 ],
 "metadata": {
  "kernelspec": {
   "display_name": "Python 3",
   "language": "python",
   "name": "python3"
  },
  "language_info": {
   "codemirror_mode": {
    "name": "ipython",
    "version": 3
   },
   "file_extension": ".py",
   "mimetype": "text/x-python",
   "name": "python",
   "nbconvert_exporter": "python",
   "pygments_lexer": "ipython3",
   "version": "3.5.2"
  }
 },
 "nbformat": 4,
 "nbformat_minor": 2
}
