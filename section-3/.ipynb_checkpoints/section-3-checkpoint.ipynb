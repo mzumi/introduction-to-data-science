{
 "cells": [
  {
   "cell_type": "code",
   "execution_count": 1,
   "metadata": {
    "collapsed": false
   },
   "outputs": [],
   "source": [
    "import pandas as pd\n",
    "\n",
    "dau = pd.read_csv(\"section3-dau.csv\", parse_dates=['log_date'])\n",
    "dpu = pd.read_csv(\"section3-dpu.csv\", parse_dates=['log_date'])\n",
    "install = pd.read_csv(\"section3-install.csv\", parse_dates=['install_date'])\n"
   ]
  },
  {
   "cell_type": "code",
   "execution_count": 2,
   "metadata": {
    "collapsed": false
   },
   "outputs": [],
   "source": [
    "# dauとインストール情報を結合させる\n",
    "dau_install = pd.merge(dau, install, on=['app_name', 'user_id'])\n",
    "\n",
    "# 上記の情報に、課金情報を結合させる\n",
    "user_info = pd.merge(dau_install, dpu, on=['log_date', 'app_name', 'user_id'], how='left').fillna(0)"
   ]
  },
  {
   "cell_type": "code",
   "execution_count": 3,
   "metadata": {
    "collapsed": false
   },
   "outputs": [],
   "source": [
    "# 年月の単位の列を追加する\n",
    "user_info['log_month'] = user_info['log_date'].apply(lambda x: str(x)[0:7])\n",
    "user_info['install_month'] = user_info['install_date'].apply(lambda x: str(x)[0:7])"
   ]
  },
  {
   "cell_type": "code",
   "execution_count": 4,
   "metadata": {
    "collapsed": false
   },
   "outputs": [],
   "source": [
    "# アクセスした年月の列を追加\n",
    "user_info['log_month'] = user_info['log_date'].apply(lambda x: str(x)[0:7])\n",
    "\n",
    "# インストールした年月の列を追加\n",
    "user_info['install_month'] = user_info['install_date'].apply(lambda x: str(x)[0:7])"
   ]
  },
  {
   "cell_type": "code",
   "execution_count": 6,
   "metadata": {
    "collapsed": false
   },
   "outputs": [
    {
     "name": "stderr",
     "output_type": "stream",
     "text": [
      "/opt/conda/lib/python3.5/site-packages/matplotlib/font_manager.py:273: UserWarning: Matplotlib is building the font cache using fc-list. This may take a moment.\n",
      "  warnings.warn('Matplotlib is building the font cache using fc-list. This may take a moment.')\n",
      "/opt/conda/lib/python3.5/site-packages/matplotlib/font_manager.py:273: UserWarning: Matplotlib is building the font cache using fc-list. This may take a moment.\n",
      "  warnings.warn('Matplotlib is building the font cache using fc-list. This may take a moment.')\n"
     ]
    },
    {
     "data": {
      "text/plain": [
       "<matplotlib.axes._subplots.AxesSubplot at 0x7f51675eb2e8>"
      ]
     },
     "execution_count": 6,
     "metadata": {},
     "output_type": "execute_result"
    },
    {
     "data": {
      "image/png": "[encoded data removed]",
      "text/plain": [
       "<matplotlib.figure.Figure at 0x7f51400b3e80>"
      ]
     },
     "metadata": {},
     "output_type": "display_data"
    }
   ],
   "source": [
    "user_info['new_user'] = user_info['log_month'] == user_info['install_month']\n",
    "user_info.groupby(['app_name', 'log_month', 'new_user'])['payment'].sum().unstack()\n",
    "user_info.groupby(['app_name', 'log_month', 'new_user'])['payment'].sum().unstack().plot(kind='bar', stacked=True)"
   ]
  },
  {
   "cell_type": "code",
   "execution_count": 12,
   "metadata": {
    "collapsed": false
   },
   "outputs": [],
   "source": [
    "purchasers = user_info[user_info['payment'] > 0]\n",
    "purchasers.groupby(['app_name', 'log_month', 'user_id'])['payment'].sum().apply(lambda x: int(x) / 2000 * 2000)\n",
    "payment_info = purchasers.groupby(['app_name', 'log_month', 'user_id'], as_index=False)['payment'].sum()"
   ]
  },
  {
   "cell_type": "code",
   "execution_count": 15,
   "metadata": {
    "collapsed": false
   },
   "outputs": [],
   "source": [
    "payment_info['payment_band'] = payment_info['payment'].apply(lambda x: int(x) / 2000 * 2000)\n",
    "payment_info[payment_info['new_user']].groupby(['app_name', 'payment_band', 'log_month')['user_id'].count().unstack().fillna(0).plot(kind='bar')"
   ]
  },
  {
   "cell_type": "code",
   "execution_count": null,
   "metadata": {
    "collapsed": true
   },
   "outputs": [],
   "source": []
  }
 ],
 "metadata": {
  "kernelspec": {
   "display_name": "Python 3",
   "language": "python",
   "name": "python3"
  },
  "language_info": {
   "codemirror_mode": {
    "name": "ipython",
    "version": 3
   },
   "file_extension": ".py",
   "mimetype": "text/x-python",
   "name": "python",
   "nbconvert_exporter": "python",
   "pygments_lexer": "ipython3",
   "version": "3.5.2"
  }
 },
 "nbformat": 4,
 "nbformat_minor": 2
}
