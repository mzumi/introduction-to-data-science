{
 "cells": [
  {
   "cell_type": "code",
   "execution_count": 5,
   "metadata": {
    "collapsed": false
   },
   "outputs": [
    {
     "data": {
      "text/html": [
       "<div>\n",
       "<table border=\"1\" class=\"dataframe\">\n",
       "  <thead>\n",
       "    <tr style=\"text-align: right;\">\n",
       "      <th></th>\n",
       "      <th>log_date</th>\n",
       "      <th>app_name</th>\n",
       "      <th>user_id</th>\n",
       "    </tr>\n",
       "  </thead>\n",
       "  <tbody>\n",
       "    <tr>\n",
       "      <th>0</th>\n",
       "      <td>2013-08-01</td>\n",
       "      <td>game-01</td>\n",
       "      <td>33754</td>\n",
       "    </tr>\n",
       "    <tr>\n",
       "      <th>1</th>\n",
       "      <td>2013-08-01</td>\n",
       "      <td>game-01</td>\n",
       "      <td>28598</td>\n",
       "    </tr>\n",
       "    <tr>\n",
       "      <th>2</th>\n",
       "      <td>2013-08-01</td>\n",
       "      <td>game-01</td>\n",
       "      <td>30306</td>\n",
       "    </tr>\n",
       "    <tr>\n",
       "      <th>3</th>\n",
       "      <td>2013-08-01</td>\n",
       "      <td>game-01</td>\n",
       "      <td>117</td>\n",
       "    </tr>\n",
       "    <tr>\n",
       "      <th>4</th>\n",
       "      <td>2013-08-01</td>\n",
       "      <td>game-01</td>\n",
       "      <td>6605</td>\n",
       "    </tr>\n",
       "  </tbody>\n",
       "</table>\n",
       "</div>"
      ],
      "text/plain": [
       "    log_date app_name  user_id\n",
       "0 2013-08-01  game-01    33754\n",
       "1 2013-08-01  game-01    28598\n",
       "2 2013-08-01  game-01    30306\n",
       "3 2013-08-01  game-01      117\n",
       "4 2013-08-01  game-01     6605"
      ]
     },
     "execution_count": 5,
     "metadata": {},
     "output_type": "execute_result"
    }
   ],
   "source": [
    "import pandas as pd\n",
    "\n",
    "dau = pd.read_csv(\"section4-dau.csv\", parse_dates=['log_date'])\n",
    "user_info = pd.read_csv(\"section4-user_info.csv\")\n",
    "dau.head(5)"
   ]
  },
  {
   "cell_type": "code",
   "execution_count": 6,
   "metadata": {
    "collapsed": false
   },
   "outputs": [
    {
     "data": {
      "text/html": [
       "<div>\n",
       "<table border=\"1\" class=\"dataframe\">\n",
       "  <thead>\n",
       "    <tr style=\"text-align: right;\">\n",
       "      <th></th>\n",
       "      <th>install_date</th>\n",
       "      <th>app_name</th>\n",
       "      <th>user_id</th>\n",
       "      <th>gender</th>\n",
       "      <th>generation</th>\n",
       "      <th>device_type</th>\n",
       "    </tr>\n",
       "  </thead>\n",
       "  <tbody>\n",
       "    <tr>\n",
       "      <th>0</th>\n",
       "      <td>2013-04-15</td>\n",
       "      <td>game-01</td>\n",
       "      <td>1</td>\n",
       "      <td>M</td>\n",
       "      <td>40</td>\n",
       "      <td>iOS</td>\n",
       "    </tr>\n",
       "    <tr>\n",
       "      <th>1</th>\n",
       "      <td>2013-04-15</td>\n",
       "      <td>game-01</td>\n",
       "      <td>2</td>\n",
       "      <td>M</td>\n",
       "      <td>10</td>\n",
       "      <td>Android</td>\n",
       "    </tr>\n",
       "    <tr>\n",
       "      <th>2</th>\n",
       "      <td>2013-04-15</td>\n",
       "      <td>game-01</td>\n",
       "      <td>3</td>\n",
       "      <td>F</td>\n",
       "      <td>40</td>\n",
       "      <td>iOS</td>\n",
       "    </tr>\n",
       "    <tr>\n",
       "      <th>3</th>\n",
       "      <td>2013-04-15</td>\n",
       "      <td>game-01</td>\n",
       "      <td>4</td>\n",
       "      <td>M</td>\n",
       "      <td>10</td>\n",
       "      <td>Android</td>\n",
       "    </tr>\n",
       "    <tr>\n",
       "      <th>4</th>\n",
       "      <td>2013-04-15</td>\n",
       "      <td>game-01</td>\n",
       "      <td>5</td>\n",
       "      <td>M</td>\n",
       "      <td>40</td>\n",
       "      <td>iOS</td>\n",
       "    </tr>\n",
       "  </tbody>\n",
       "</table>\n",
       "</div>"
      ],
      "text/plain": [
       "  install_date app_name  user_id gender  generation device_type\n",
       "0   2013-04-15  game-01        1      M          40         iOS\n",
       "1   2013-04-15  game-01        2      M          10     Android\n",
       "2   2013-04-15  game-01        3      F          40         iOS\n",
       "3   2013-04-15  game-01        4      M          10     Android\n",
       "4   2013-04-15  game-01        5      M          40         iOS"
      ]
     },
     "execution_count": 6,
     "metadata": {},
     "output_type": "execute_result"
    }
   ],
   "source": [
    "user_info.head(5)"
   ]
  },
  {
   "cell_type": "code",
   "execution_count": 24,
   "metadata": {
    "collapsed": false
   },
   "outputs": [
    {
     "data": {
      "text/html": [
       "<div>\n",
       "<table border=\"1\" class=\"dataframe\">\n",
       "  <thead>\n",
       "    <tr style=\"text-align: right;\">\n",
       "      <th></th>\n",
       "      <th>install_date</th>\n",
       "      <th>app_name</th>\n",
       "      <th>user_id</th>\n",
       "      <th>gender</th>\n",
       "      <th>generation</th>\n",
       "      <th>device_type</th>\n",
       "      <th>log_date</th>\n",
       "      <th>log_month</th>\n",
       "    </tr>\n",
       "  </thead>\n",
       "  <tbody>\n",
       "    <tr>\n",
       "      <th>0</th>\n",
       "      <td>2013-04-15</td>\n",
       "      <td>game-01</td>\n",
       "      <td>1</td>\n",
       "      <td>M</td>\n",
       "      <td>40</td>\n",
       "      <td>iOS</td>\n",
       "      <td>2013-09-01</td>\n",
       "      <td>2013-09</td>\n",
       "    </tr>\n",
       "    <tr>\n",
       "      <th>1</th>\n",
       "      <td>2013-04-15</td>\n",
       "      <td>game-01</td>\n",
       "      <td>1</td>\n",
       "      <td>M</td>\n",
       "      <td>40</td>\n",
       "      <td>iOS</td>\n",
       "      <td>2013-09-02</td>\n",
       "      <td>2013-09</td>\n",
       "    </tr>\n",
       "    <tr>\n",
       "      <th>2</th>\n",
       "      <td>2013-04-15</td>\n",
       "      <td>game-01</td>\n",
       "      <td>1</td>\n",
       "      <td>M</td>\n",
       "      <td>40</td>\n",
       "      <td>iOS</td>\n",
       "      <td>2013-09-03</td>\n",
       "      <td>2013-09</td>\n",
       "    </tr>\n",
       "    <tr>\n",
       "      <th>3</th>\n",
       "      <td>2013-04-15</td>\n",
       "      <td>game-01</td>\n",
       "      <td>1</td>\n",
       "      <td>M</td>\n",
       "      <td>40</td>\n",
       "      <td>iOS</td>\n",
       "      <td>2013-09-04</td>\n",
       "      <td>2013-09</td>\n",
       "    </tr>\n",
       "    <tr>\n",
       "      <th>4</th>\n",
       "      <td>2013-04-15</td>\n",
       "      <td>game-01</td>\n",
       "      <td>1</td>\n",
       "      <td>M</td>\n",
       "      <td>40</td>\n",
       "      <td>iOS</td>\n",
       "      <td>2013-09-05</td>\n",
       "      <td>2013-09</td>\n",
       "    </tr>\n",
       "  </tbody>\n",
       "</table>\n",
       "</div>"
      ],
      "text/plain": [
       "  install_date app_name  user_id gender  generation device_type   log_date  \\\n",
       "0   2013-04-15  game-01        1      M          40         iOS 2013-09-01   \n",
       "1   2013-04-15  game-01        1      M          40         iOS 2013-09-02   \n",
       "2   2013-04-15  game-01        1      M          40         iOS 2013-09-03   \n",
       "3   2013-04-15  game-01        1      M          40         iOS 2013-09-04   \n",
       "4   2013-04-15  game-01        1      M          40         iOS 2013-09-05   \n",
       "\n",
       "  log_month  \n",
       "0   2013-09  \n",
       "1   2013-09  \n",
       "2   2013-09  \n",
       "3   2013-09  \n",
       "4   2013-09  "
      ]
     },
     "execution_count": 24,
     "metadata": {},
     "output_type": "execute_result"
    }
   ],
   "source": [
    "# ユーザー情報にアクセス日の情報を付加する\n",
    "user_info_dau = pd.merge(user_info, dau, on=['app_name', 'user_id'])\n",
    "# アクセス年月の情報を追加（集計用）\n",
    "user_info_dau['log_month'] = user_info_dau['log_date'].apply(lambda x: str(x)[0:7])\n",
    "user_info_dau.head(5)"
   ]
  },
  {
   "cell_type": "code",
   "execution_count": 25,
   "metadata": {
    "collapsed": false
   },
   "outputs": [
    {
     "data": {
      "text/html": [
       "<div>\n",
       "<table border=\"1\" class=\"dataframe\">\n",
       "  <thead>\n",
       "    <tr style=\"text-align: right;\">\n",
       "      <th>gender</th>\n",
       "      <th>F</th>\n",
       "      <th>M</th>\n",
       "    </tr>\n",
       "    <tr>\n",
       "      <th>log_month</th>\n",
       "      <th></th>\n",
       "      <th></th>\n",
       "    </tr>\n",
       "  </thead>\n",
       "  <tbody>\n",
       "    <tr>\n",
       "      <th>2013-08</th>\n",
       "      <td>47343</td>\n",
       "      <td>46842</td>\n",
       "    </tr>\n",
       "    <tr>\n",
       "      <th>2013-09</th>\n",
       "      <td>38027</td>\n",
       "      <td>38148</td>\n",
       "    </tr>\n",
       "  </tbody>\n",
       "</table>\n",
       "</div>"
      ],
      "text/plain": [
       "gender         F      M\n",
       "log_month              \n",
       "2013-08    47343  46842\n",
       "2013-09    38027  38148"
      ]
     },
     "execution_count": 25,
     "metadata": {},
     "output_type": "execute_result"
    }
   ],
   "source": [
    "# セグメント分析（性別）\n",
    "pd.pivot_table(user_info_dau, index=['log_month'], columns=['gender'],  values='user_id',aggfunc=lambda x : len(x))"
   ]
  },
  {
   "cell_type": "code",
   "execution_count": 26,
   "metadata": {
    "collapsed": false
   },
   "outputs": [
    {
     "data": {
      "text/html": [
       "<div>\n",
       "<table border=\"1\" class=\"dataframe\">\n",
       "  <thead>\n",
       "    <tr style=\"text-align: right;\">\n",
       "      <th>generation</th>\n",
       "      <th>10</th>\n",
       "      <th>20</th>\n",
       "      <th>30</th>\n",
       "      <th>40</th>\n",
       "      <th>50</th>\n",
       "    </tr>\n",
       "    <tr>\n",
       "      <th>log_month</th>\n",
       "      <th></th>\n",
       "      <th></th>\n",
       "      <th></th>\n",
       "      <th></th>\n",
       "      <th></th>\n",
       "    </tr>\n",
       "  </thead>\n",
       "  <tbody>\n",
       "    <tr>\n",
       "      <th>2013-08</th>\n",
       "      <td>18785</td>\n",
       "      <td>33671</td>\n",
       "      <td>28072</td>\n",
       "      <td>8828</td>\n",
       "      <td>4829</td>\n",
       "    </tr>\n",
       "    <tr>\n",
       "      <th>2013-09</th>\n",
       "      <td>15391</td>\n",
       "      <td>27229</td>\n",
       "      <td>22226</td>\n",
       "      <td>7494</td>\n",
       "      <td>3835</td>\n",
       "    </tr>\n",
       "  </tbody>\n",
       "</table>\n",
       "</div>"
      ],
      "text/plain": [
       "generation     10     20     30    40    50\n",
       "log_month                                  \n",
       "2013-08     18785  33671  28072  8828  4829\n",
       "2013-09     15391  27229  22226  7494  3835"
      ]
     },
     "execution_count": 26,
     "metadata": {},
     "output_type": "execute_result"
    }
   ],
   "source": [
    "# セグメント分析（年代）\n",
    "pd.pivot_table(user_info_dau, index=['log_month'], columns=['generation'],  values='user_id',aggfunc=lambda x : len(x))"
   ]
  },
  {
   "cell_type": "code",
   "execution_count": 27,
   "metadata": {
    "collapsed": false
   },
   "outputs": [
    {
     "data": {
      "text/html": [
       "<div>\n",
       "<table border=\"1\" class=\"dataframe\">\n",
       "  <thead>\n",
       "    <tr>\n",
       "      <th>gender</th>\n",
       "      <th colspan=\"5\" halign=\"left\">F</th>\n",
       "      <th colspan=\"5\" halign=\"left\">M</th>\n",
       "    </tr>\n",
       "    <tr>\n",
       "      <th>generation</th>\n",
       "      <th>10</th>\n",
       "      <th>20</th>\n",
       "      <th>30</th>\n",
       "      <th>40</th>\n",
       "      <th>50</th>\n",
       "      <th>10</th>\n",
       "      <th>20</th>\n",
       "      <th>30</th>\n",
       "      <th>40</th>\n",
       "      <th>50</th>\n",
       "    </tr>\n",
       "    <tr>\n",
       "      <th>log_month</th>\n",
       "      <th></th>\n",
       "      <th></th>\n",
       "      <th></th>\n",
       "      <th></th>\n",
       "      <th></th>\n",
       "      <th></th>\n",
       "      <th></th>\n",
       "      <th></th>\n",
       "      <th></th>\n",
       "      <th></th>\n",
       "    </tr>\n",
       "  </thead>\n",
       "  <tbody>\n",
       "    <tr>\n",
       "      <th>2013-08</th>\n",
       "      <td>9091</td>\n",
       "      <td>17181</td>\n",
       "      <td>14217</td>\n",
       "      <td>4597</td>\n",
       "      <td>2257</td>\n",
       "      <td>9694</td>\n",
       "      <td>16490</td>\n",
       "      <td>13855</td>\n",
       "      <td>4231</td>\n",
       "      <td>2572</td>\n",
       "    </tr>\n",
       "    <tr>\n",
       "      <th>2013-09</th>\n",
       "      <td>7316</td>\n",
       "      <td>13616</td>\n",
       "      <td>11458</td>\n",
       "      <td>3856</td>\n",
       "      <td>1781</td>\n",
       "      <td>8075</td>\n",
       "      <td>13613</td>\n",
       "      <td>10768</td>\n",
       "      <td>3638</td>\n",
       "      <td>2054</td>\n",
       "    </tr>\n",
       "  </tbody>\n",
       "</table>\n",
       "</div>"
      ],
      "text/plain": [
       "gender         F                               M                          \n",
       "generation    10     20     30    40    50    10     20     30    40    50\n",
       "log_month                                                                 \n",
       "2013-08     9091  17181  14217  4597  2257  9694  16490  13855  4231  2572\n",
       "2013-09     7316  13616  11458  3856  1781  8075  13613  10768  3638  2054"
      ]
     },
     "execution_count": 27,
     "metadata": {},
     "output_type": "execute_result"
    }
   ],
   "source": [
    "# セグメント分析（性別x年代）\n",
    "pd.pivot_table(user_info_dau, index=['log_month'], columns=['gender', 'generation'],  values='user_id',aggfunc=lambda x : len(x))"
   ]
  },
  {
   "cell_type": "code",
   "execution_count": 30,
   "metadata": {
    "collapsed": false
   },
   "outputs": [
    {
     "data": {
      "text/html": [
       "<div>\n",
       "<table border=\"1\" class=\"dataframe\">\n",
       "  <thead>\n",
       "    <tr style=\"text-align: right;\">\n",
       "      <th>device_type</th>\n",
       "      <th>Android</th>\n",
       "      <th>iOS</th>\n",
       "    </tr>\n",
       "    <tr>\n",
       "      <th>log_month</th>\n",
       "      <th></th>\n",
       "      <th></th>\n",
       "    </tr>\n",
       "  </thead>\n",
       "  <tbody>\n",
       "    <tr>\n",
       "      <th>2013-08</th>\n",
       "      <td>46974</td>\n",
       "      <td>47211</td>\n",
       "    </tr>\n",
       "    <tr>\n",
       "      <th>2013-09</th>\n",
       "      <td>29647</td>\n",
       "      <td>46528</td>\n",
       "    </tr>\n",
       "  </tbody>\n",
       "</table>\n",
       "</div>"
      ],
      "text/plain": [
       "device_type  Android    iOS\n",
       "log_month                  \n",
       "2013-08        46974  47211\n",
       "2013-09        29647  46528"
      ]
     },
     "execution_count": 30,
     "metadata": {},
     "output_type": "execute_result"
    }
   ],
   "source": [
    "# セグメント分析（デバイス）\n",
    "pd.pivot_table(user_info_dau, index=['log_month'], columns=['device_type'], values='user_id', aggfunc=lambda x : len(x))"
   ]
  },
  {
   "cell_type": "code",
   "execution_count": 41,
   "metadata": {
    "collapsed": false
   },
   "outputs": [
    {
     "data": {
      "text/html": [
       "<div>\n",
       "<table border=\"1\" class=\"dataframe\">\n",
       "  <thead>\n",
       "    <tr style=\"text-align: right;\">\n",
       "      <th>device_type</th>\n",
       "      <th>Android</th>\n",
       "      <th>iOS</th>\n",
       "    </tr>\n",
       "    <tr>\n",
       "      <th>log_date</th>\n",
       "      <th></th>\n",
       "      <th></th>\n",
       "    </tr>\n",
       "  </thead>\n",
       "  <tbody>\n",
       "    <tr>\n",
       "      <th>2013-08-01</th>\n",
       "      <td>1784</td>\n",
       "      <td>1805</td>\n",
       "    </tr>\n",
       "    <tr>\n",
       "      <th>2013-08-02</th>\n",
       "      <td>1386</td>\n",
       "      <td>1451</td>\n",
       "    </tr>\n",
       "    <tr>\n",
       "      <th>2013-08-03</th>\n",
       "      <td>1295</td>\n",
       "      <td>1351</td>\n",
       "    </tr>\n",
       "    <tr>\n",
       "      <th>2013-08-04</th>\n",
       "      <td>1283</td>\n",
       "      <td>1314</td>\n",
       "    </tr>\n",
       "    <tr>\n",
       "      <th>2013-08-05</th>\n",
       "      <td>2002</td>\n",
       "      <td>2038</td>\n",
       "    </tr>\n",
       "  </tbody>\n",
       "</table>\n",
       "</div>"
      ],
      "text/plain": [
       "device_type  Android   iOS\n",
       "log_date                  \n",
       "2013-08-01      1784  1805\n",
       "2013-08-02      1386  1451\n",
       "2013-08-03      1295  1351\n",
       "2013-08-04      1283  1314\n",
       "2013-08-05      2002  2038"
      ]
     },
     "execution_count": 41,
     "metadata": {},
     "output_type": "execute_result"
    }
   ],
   "source": [
    "# デバイス別 UU の推移\n",
    "unique_user_per_device = user_info_dau.groupby(['log_date', 'device_type'])['user_id'].count().unstack()\n",
    "unique_user_per_device.head(5)"
   ]
  },
  {
   "cell_type": "code",
   "execution_count": 43,
   "metadata": {
    "collapsed": false
   },
   "outputs": [
    {
     "data": {
      "text/plain": [
       "<matplotlib.axes._subplots.AxesSubplot at 0x7f056d2dec50>"
      ]
     },
     "execution_count": 43,
     "metadata": {},
     "output_type": "execute_result"
    },
    {
     "data": {
      "image/png": "[encoded data removed]",
      "text/plain": [
       "<matplotlib.figure.Figure at 0x7f056d2e7d30>"
      ]
     },
     "metadata": {},
     "output_type": "display_data"
    }
   ],
   "source": [
    "# デバイス別 UU の推移のグラフ\n",
    "unique_user_per_device.plot()"
   ]
  }
 ],
 "metadata": {
  "kernelspec": {
   "display_name": "Python 3",
   "language": "python",
   "name": "python3"
  },
  "language_info": {
   "codemirror_mode": {
    "name": "ipython",
    "version": 3
   },
   "file_extension": ".py",
   "mimetype": "text/x-python",
   "name": "python",
   "nbconvert_exporter": "python",
   "pygments_lexer": "ipython3",
   "version": "3.5.2"
  }
 },
 "nbformat": 4,
 "nbformat_minor": 2
}
